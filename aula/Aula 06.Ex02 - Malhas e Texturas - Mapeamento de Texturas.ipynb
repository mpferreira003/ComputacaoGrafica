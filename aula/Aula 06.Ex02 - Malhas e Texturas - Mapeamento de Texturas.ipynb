{
 "cells": [
  {
   "cell_type": "markdown",
   "metadata": {},
   "source": [
    "# Aula 06.Ex02 - Malhas e Texturas - Mapeamento de Texturas"
   ]
  },
  {
   "cell_type": "markdown",
   "metadata": {},
   "source": [
    "### Primeiro, vamos importar as bibliotecas necessárias."
   ]
  },
  {
   "cell_type": "code",
   "execution_count": 3,
   "metadata": {},
   "outputs": [],
   "source": [
    "import glfw\n",
    "from OpenGL.GL import *\n",
    "import numpy as np\n",
    "import glm\n",
    "import math\n",
    "from numpy import random\n",
    "from PIL import Image\n",
    "\n",
    "from shader_s import Shader"
   ]
  },
  {
   "cell_type": "markdown",
   "metadata": {},
   "source": [
    "### Inicializando janela"
   ]
  },
  {
   "cell_type": "code",
   "execution_count": 5,
   "metadata": {},
   "outputs": [],
   "source": [
    "glfw.init()\n",
    "glfw.window_hint(glfw.VISIBLE, glfw.FALSE)\n",
    "window = glfw.create_window(700, 700, \"Programa\", None, None)\n",
    "\n",
    "if (window == None):\n",
    "    print(\"Failed to create GLFW window\")\n",
    "    glfwTerminate()\n",
    "    \n",
    "glfw.make_context_current(window)"
   ]
  },
  {
   "cell_type": "markdown",
   "metadata": {},
   "source": [
    "### Constroi e compila os shaders. Também \"linka\" eles ao programa\n",
    "\n",
    "#### Novidade aqui: modularização dessa parte do código --- temos agora uma classe e arquivos próprios para os shaders (vs e fs)\n",
    "Créditos: https://learnopengl.com"
   ]
  },
  {
   "cell_type": "code",
   "execution_count": 7,
   "metadata": {},
   "outputs": [],
   "source": [
    "ourShader = Shader(\"vertex_shader.vs\", \"fragment_shader.fs\")\n",
    "ourShader.use()\n",
    "\n",
    "program = ourShader.getProgram()"
   ]
  },
  {
   "cell_type": "markdown",
   "metadata": {},
   "source": [
    "### Preparando dados para enviar a GPU\n",
    "\n",
    "Até aqui, compilamos nossos Shaders para que a GPU possa processá-los.\n",
    "\n",
    "Por outro lado, as informações de vértices geralmente estão na CPU e devem ser transmitidas para a GPU.\n"
   ]
  },
  {
   "cell_type": "markdown",
   "metadata": {},
   "source": [
    "### Carregando Modelos (vértices e texturas) a partir de Arquivos\n",
    "\n",
    "A função abaixo carrega modelos a partir de arquivos no formato WaveFront (.obj).\n",
    "\n",
    "Para saber mais sobre o modelo, acesse: https://en.wikipedia.org/wiki/Wavefront_.obj_file"
   ]
  },
  {
   "cell_type": "code",
   "execution_count": 10,
   "metadata": {},
   "outputs": [],
   "source": [
    "glEnable(GL_TEXTURE_2D)\n",
    "glHint(GL_LINE_SMOOTH_HINT, GL_DONT_CARE)\n",
    "glEnable( GL_BLEND )\n",
    "glBlendFunc( GL_SRC_ALPHA, GL_ONE_MINUS_SRC_ALPHA )\n",
    "glEnable(GL_LINE_SMOOTH)\n",
    "\n",
    "\n",
    "global vertices_list\n",
    "vertices_list = []    \n",
    "global textures_coord_list\n",
    "textures_coord_list = []\n",
    "\n",
    "\n",
    "def load_model_from_file(filename):\n",
    "    \"\"\"Loads a Wavefront OBJ file. \"\"\"\n",
    "    objects = {}\n",
    "    vertices = []\n",
    "    texture_coords = []\n",
    "    faces = []\n",
    "\n",
    "    material = None\n",
    "\n",
    "    # abre o arquivo obj para leitura\n",
    "    for line in open(filename, \"r\"): ## para cada linha do arquivo .obj\n",
    "        if line.startswith('#'): continue ## ignora comentarios\n",
    "        values = line.split() # quebra a linha por espaço\n",
    "        if not values: continue\n",
    "\n",
    "        ### recuperando vertices\n",
    "        if values[0] == 'v':\n",
    "            vertices.append(values[1:4])\n",
    "\n",
    "        ### recuperando coordenadas de textura\n",
    "        elif values[0] == 'vt':\n",
    "            texture_coords.append(values[1:3])\n",
    "\n",
    "        ### recuperando faces \n",
    "        elif values[0] in ('usemtl', 'usemat'):\n",
    "            material = values[1]\n",
    "        elif values[0] == 'f':\n",
    "            face = []\n",
    "            face_texture = []\n",
    "            for v in values[1:]:\n",
    "                w = v.split('/')\n",
    "                face.append(int(w[0]))\n",
    "                if len(w) >= 2 and len(w[1]) > 0:\n",
    "                    face_texture.append(int(w[1]))\n",
    "                else:\n",
    "                    face_texture.append(0)\n",
    "\n",
    "            faces.append((face, face_texture, material))\n",
    "\n",
    "    model = {}\n",
    "    model['vertices'] = vertices\n",
    "    model['texture'] = texture_coords\n",
    "    model['faces'] = faces\n",
    "\n",
    "    return model\n",
    "\n",
    "\n",
    "def load_texture_from_file(texture_id, img_textura):\n",
    "    glBindTexture(GL_TEXTURE_2D, texture_id)\n",
    "    glTexParameteri(GL_TEXTURE_2D, GL_TEXTURE_WRAP_S, GL_REPEAT)\n",
    "    glTexParameteri(GL_TEXTURE_2D, GL_TEXTURE_WRAP_T, GL_REPEAT)\n",
    "    glTexParameteri(GL_TEXTURE_2D, GL_TEXTURE_MIN_FILTER, GL_LINEAR)\n",
    "    glTexParameteri(GL_TEXTURE_2D, GL_TEXTURE_MAG_FILTER, GL_LINEAR)\n",
    "    img = Image.open(img_textura)\n",
    "    img_width = img.size[0]\n",
    "    img_height = img.size[1]\n",
    "    image_data = img.tobytes(\"raw\", \"RGB\", 0, -1)\n",
    "    #image_data = np.array(list(img.getdata()), np.uint8)\n",
    "    glTexImage2D(GL_TEXTURE_2D, 0, GL_RGB, img_width, img_height, 0, GL_RGB, GL_UNSIGNED_BYTE, image_data)\n",
    "\n",
    "\n",
    "\n",
    "'''\n",
    "É possível encontrar, na Internet, modelos .obj cujas faces não sejam triângulos. Nesses casos, precisamos gerar triângulos a partir dos vértices da face.\n",
    "A função abaixo retorna a sequência de vértices que permite isso. Créditos: Hélio Nogueira Cardoso e Danielle Modesti (SCC0650 - 2024/2).\n",
    "'''\n",
    "def circular_sliding_window_of_three(arr):\n",
    "    if len(arr) == 3:\n",
    "        return arr\n",
    "    circular_arr = arr + [arr[0]]\n",
    "    result = []\n",
    "    for i in range(len(circular_arr) - 2):\n",
    "        result.extend(circular_arr[i:i+3])\n",
    "    return result\n",
    "\n",
    "\n",
    "def load_obj_and_texture(objFile, texturesList):\n",
    "    modelo = load_model_from_file(objFile)\n",
    "    \n",
    "    ### inserindo vertices do modelo no vetor de vertices\n",
    "    verticeInicial = len(vertices_list)\n",
    "    print('Processando modelo {}. Vertice inicial: {}'.format(objFile, len(vertices_list)))\n",
    "    faces_visited = []\n",
    "    for face in modelo['faces']:\n",
    "        if face[2] not in faces_visited:\n",
    "            faces_visited.append(face[2])\n",
    "        for vertice_id in circular_sliding_window_of_three(face[0]):\n",
    "            vertices_list.append(modelo['vertices'][vertice_id - 1])\n",
    "        for texture_id in circular_sliding_window_of_three(face[1]):\n",
    "            textures_coord_list.append(modelo['texture'][texture_id - 1])\n",
    "        \n",
    "    verticeFinal = len(vertices_list)\n",
    "    print('Processando modelo {}. Vertice final: {}'.format(objFile, len(vertices_list)))\n",
    "    \n",
    "    ### carregando textura equivalente e definindo um id (buffer): use um id por textura!\n",
    "    if texturesList:\n",
    "        for id in range(len(texturesList)):\n",
    "            load_texture_from_file(id,texturesList[id])\n",
    "    \n",
    "    return verticeInicial, verticeFinal - verticeInicial"
   ]
  },
  {
   "cell_type": "code",
   "execution_count": 11,
   "metadata": {},
   "outputs": [
    {
     "data": {
      "text/plain": [
       "{'vertices': [['-1', '-1', '1'],\n",
       "  ['-1', '-1', '-1'],\n",
       "  ['1', '-1', '-1'],\n",
       "  ['1', '-1', '1'],\n",
       "  ['-1', '1', '1'],\n",
       "  ['-1', '1', '-1'],\n",
       "  ['1', '1', '-1'],\n",
       "  ['1', '1', '1']],\n",
       " 'texture': [['1.000000', '0.000000'],\n",
       "  ['0.000000', '1.000000'],\n",
       "  ['0.000000', '0.000000'],\n",
       "  ['1.000000', '0.000000'],\n",
       "  ['0.000000', '1.000000'],\n",
       "  ['0.000000', '0.000000'],\n",
       "  ['1.000000', '0.000000'],\n",
       "  ['0.000000', '1.000000'],\n",
       "  ['0.000000', '0.000000'],\n",
       "  ['1.000000', '0.000000'],\n",
       "  ['0.000000', '1.000000'],\n",
       "  ['0.000000', '0.000000'],\n",
       "  ['1.000000', '0.000000'],\n",
       "  ['0.000000', '0.000000'],\n",
       "  ['0.000000', '1.000000'],\n",
       "  ['1.000000', '1.000000'],\n",
       "  ['1.000000', '1.000000'],\n",
       "  ['1.000000', '1.000000'],\n",
       "  ['1.000000', '1.000000'],\n",
       "  ['1.000000', '1.000000']],\n",
       " 'faces': [([6, 1, 5], [1, 2, 3], None),\n",
       "  ([7, 2, 6], [4, 5, 6], None),\n",
       "  ([8, 3, 7], [7, 8, 9], None),\n",
       "  ([5, 4, 8], [10, 11, 12], None),\n",
       "  ([2, 4, 1], [13, 11, 14], None),\n",
       "  ([7, 5, 8], [4, 15, 12], None),\n",
       "  ([6, 2, 1], [1, 16, 2], None),\n",
       "  ([7, 3, 2], [4, 17, 5], None),\n",
       "  ([8, 4, 3], [7, 18, 8], None),\n",
       "  ([5, 1, 4], [10, 19, 11], None),\n",
       "  ([2, 3, 4], [13, 17, 11], None),\n",
       "  ([7, 6, 5], [4, 20, 15], None)]}"
      ]
     },
     "execution_count": 11,
     "metadata": {},
     "output_type": "execute_result"
    }
   ],
   "source": [
    "load_model_from_file('caixa/caixa.obj') #apenas para ilustrar como é o resultado da função"
   ]
  },
  {
   "cell_type": "markdown",
   "metadata": {},
   "source": [
    "### Vamos carregar cada modelo e definir funções para desenhá-los\n",
    "\n",
    "#### Novidade aqui: note que a função \"desenha_caixa\" é diferente agora!"
   ]
  },
  {
   "cell_type": "code",
   "execution_count": 13,
   "metadata": {},
   "outputs": [
    {
     "name": "stdout",
     "output_type": "stream",
     "text": [
      "Processando modelo caixa/caixa.obj. Vertice inicial: 0\n",
      "Processando modelo caixa/caixa.obj. Vertice final: 36\n"
     ]
    }
   ],
   "source": [
    "# carrega caixa (modelo e texturas)\n",
    "verticeInicial, quantosVertices = load_obj_and_texture('caixa/caixa.obj', ['caixa/caixa.jpg', 'caixa/matrix.jpg', 'caixa/tijolos.jpg'])\n",
    "\n",
    "\n",
    "def desenha_caixa(tx, ty, tz, idTextura, sequencia):\n",
    "\n",
    "\n",
    "    mat_rotation_z = np.array([     cos_d, -sin_d, 0.0, 0.0, \n",
    "                                    sin_d,  cos_d, 0.0, 0.0, \n",
    "                                    0.0,      0.0, 1.0, 0.0, \n",
    "                                    0.0,      0.0, 0.0, 1.0], np.float32)\n",
    "    \n",
    "    mat_rotation_x = np.array([     1.0,   0.0,    0.0, 0.0, \n",
    "                                    0.0, cos_d, -sin_d, 0.0, \n",
    "                                    0.0, sin_d,  cos_d, 0.0, \n",
    "                                    0.0,   0.0,    0.0, 1.0], np.float32)\n",
    "    \n",
    "    mat_rotation_y = np.array([     cos_d,  0.0, sin_d, 0.0, \n",
    "                                    0.0,    1.0,   0.0, 0.0, \n",
    "                                    -sin_d, 0.0, cos_d, 0.0, \n",
    "                                    0.0,    0.0,   0.0, 1.0], np.float32)\n",
    "\n",
    "    \n",
    "\n",
    "    mat_translate       = np.array([1, 0.0, 0.0, tx, \n",
    "                                    0.0, 1, 0.0, ty, \n",
    "                                    0.0, 0.0, 1, tz, \n",
    "                                    0.0, 0.0, 0.0, 1.0], np.float32)  \n",
    "\n",
    "\n",
    "    mat_translate_inv       = np.array([1, 0.0, 0.0, -tx, \n",
    "                                    0.0, 1, 0.0, -ty, \n",
    "                                    0.0, 0.0, 1, -tz, \n",
    "                                    0.0, 0.0, 0.0, 1.0], np.float32)  \n",
    "\n",
    "\n",
    "    mat_scale       = np.array([    0.1, 0.0, 0.0, 0.0, \n",
    "                                    0.0, 0.1, 0.0, 0.0, \n",
    "                                    0.0, 0.0, 0.1, 0.0, \n",
    "                                    0.0, 0.0, 0.0, 1.0], np.float32)    \n",
    "   \n",
    "\n",
    "\n",
    "    # A sequencia abaixo ...\n",
    "    if sequencia == 0:\n",
    "        mat_transform = mat_translate_inv #primeira transformacao\n",
    "    \n",
    "        mat_transform = multiplica_matriz(mat_scale,mat_transform) #segunda...\n",
    "    \n",
    "        mat_transform = multiplica_matriz(mat_rotation_x,mat_transform)\n",
    "        mat_transform = multiplica_matriz(mat_rotation_y,mat_transform)\n",
    "        mat_transform = multiplica_matriz(mat_rotation_z,mat_transform)\n",
    "        \n",
    "        mat_transform = multiplica_matriz(mat_translate,mat_transform) #ultima\n",
    "\n",
    "\n",
    "    # ... tem o mesmo efeito dessa\n",
    "    else:\n",
    "        mat_transform = mat_translate #ultima\n",
    "    \n",
    "        mat_transform = multiplica_matriz(mat_transform, mat_scale) # penultima...\n",
    "    \n",
    "        mat_transform = multiplica_matriz(mat_transform, mat_rotation_z)\n",
    "        mat_transform = multiplica_matriz(mat_transform, mat_rotation_y)\n",
    "        mat_transform = multiplica_matriz(mat_transform, mat_rotation_x)\n",
    "        \n",
    "        mat_transform = multiplica_matriz(mat_transform, mat_translate_inv) #primeira transformacao\n",
    "    \n",
    "\n",
    "    loc_mat_transform = glGetUniformLocation(program, \"mat_transform\")\n",
    "    glUniformMatrix4fv(loc_mat_transform, 1, GL_TRUE, mat_transform) \n",
    "           \n",
    "    #define id da textura do modelo\n",
    "    glBindTexture(GL_TEXTURE_2D, idTextura)\n",
    "    \n",
    "    # desenha o modelo\n",
    "    glDrawArrays(GL_TRIANGLES, verticeInicial, quantosVertices) ## renderizando"
   ]
  },
  {
   "cell_type": "markdown",
   "metadata": {},
   "source": [
    "### Para enviar nossos dados da CPU para a GPU, precisamos requisitar dois slots (buffers): um para os vértices e outro para as texturas."
   ]
  },
  {
   "cell_type": "code",
   "execution_count": 15,
   "metadata": {},
   "outputs": [],
   "source": [
    "buffer_VBO = glGenBuffers(2)"
   ]
  },
  {
   "cell_type": "markdown",
   "metadata": {},
   "source": [
    "### Enviando coordenadas de vértices para a GPU\n",
    "\n",
    "Veja os parâmetros da função glBufferData [https://www.khronos.org/registry/OpenGL-Refpages/gl4/html/glBufferData.xhtml]"
   ]
  },
  {
   "cell_type": "code",
   "execution_count": 17,
   "metadata": {},
   "outputs": [],
   "source": [
    "vertices = np.zeros(len(vertices_list), [(\"position\", np.float32, 3)])\n",
    "vertices['position'] = vertices_list\n",
    "\n",
    "\n",
    "# Upload data\n",
    "glBindBuffer(GL_ARRAY_BUFFER, buffer_VBO[0])\n",
    "glBufferData(GL_ARRAY_BUFFER, vertices.nbytes, vertices, GL_STATIC_DRAW)\n",
    "stride = vertices.strides[0]\n",
    "offset = ctypes.c_void_p(0)\n",
    "loc_vertices = glGetAttribLocation(program, \"position\")\n",
    "glEnableVertexAttribArray(loc_vertices)\n",
    "glVertexAttribPointer(loc_vertices, 3, GL_FLOAT, False, stride, offset)"
   ]
  },
  {
   "cell_type": "markdown",
   "metadata": {},
   "source": [
    "### Enviando coordenadas de textura para a GPU"
   ]
  },
  {
   "cell_type": "code",
   "execution_count": 19,
   "metadata": {},
   "outputs": [],
   "source": [
    "textures = np.zeros(len(textures_coord_list), [(\"position\", np.float32, 2)]) # duas coordenadas\n",
    "textures['position'] = textures_coord_list\n",
    "\n",
    "\n",
    "# Upload data\n",
    "glBindBuffer(GL_ARRAY_BUFFER, buffer_VBO[1])\n",
    "glBufferData(GL_ARRAY_BUFFER, textures.nbytes, textures, GL_STATIC_DRAW)\n",
    "stride = textures.strides[0]\n",
    "offset = ctypes.c_void_p(0)\n",
    "loc_texture_coord = glGetAttribLocation(program, \"texture_coord\")\n",
    "glEnableVertexAttribArray(loc_texture_coord)\n",
    "glVertexAttribPointer(loc_texture_coord, 2, GL_FLOAT, False, stride, offset)"
   ]
  },
  {
   "cell_type": "markdown",
   "metadata": {},
   "source": [
    "### Nesse momento, nós exibimos a janela!\n"
   ]
  },
  {
   "cell_type": "code",
   "execution_count": 21,
   "metadata": {},
   "outputs": [],
   "source": [
    "glfw.show_window(window)"
   ]
  },
  {
   "cell_type": "markdown",
   "metadata": {},
   "source": [
    "### Loop principal da janela."
   ]
  },
  {
   "cell_type": "code",
   "execution_count": 23,
   "metadata": {},
   "outputs": [],
   "source": [
    "\n",
    "glEnable(GL_DEPTH_TEST) ### importante para 3D\n",
    "\n",
    "def multiplica_matriz(a,b):\n",
    "    m_a = a.reshape(4,4)\n",
    "    m_b = b.reshape(4,4)\n",
    "    m_c = np.dot(m_a,m_b)\n",
    "    c = m_c.reshape(1,16)\n",
    "    return c\n",
    "\n",
    "\n",
    "angulo_rotacao= 0 \n",
    "while not glfw.window_should_close(window):\n",
    "\n",
    "    glfw.poll_events() \n",
    "    \n",
    "    angulo_rotacao -= 0.01 # modifica o angulo de rotacao em cada iteracao\n",
    "    cos_d = math.cos(angulo_rotacao)\n",
    "    sin_d = math.sin(angulo_rotacao)\n",
    "    \n",
    "    glClear(GL_COLOR_BUFFER_BIT | GL_DEPTH_BUFFER_BIT)\n",
    "    \n",
    "    glClearColor(1.0, 1.0, 1.0, 1.0)\n",
    "    \n",
    "\n",
    "    #glPolygonMode(GL_FRONT_AND_BACK,GL_LINE)\n",
    "\n",
    "    desenha_caixa(0.5,0.5,0,0,1)\n",
    "    desenha_caixa(0,0.1,0,1,0)\n",
    "    desenha_caixa(-0.5,-0.5,0,2,1)\n",
    "\n",
    "\n",
    "    glfw.swap_buffers(window)\n",
    "\n",
    "glfw.terminate()"
   ]
  }
 ],
 "metadata": {
  "finalized": {
   "timestamp": 1583114796072,
   "trusted": true
  },
  "kernelspec": {
   "display_name": "Python 3 (ipykernel)",
   "language": "python",
   "name": "python3"
  },
  "language_info": {
   "codemirror_mode": {
    "name": "ipython",
    "version": 3
   },
   "file_extension": ".py",
   "mimetype": "text/x-python",
   "name": "python",
   "nbconvert_exporter": "python",
   "pygments_lexer": "ipython3",
   "version": "3.12.3"
  }
 },
 "nbformat": 4,
 "nbformat_minor": 4
}
